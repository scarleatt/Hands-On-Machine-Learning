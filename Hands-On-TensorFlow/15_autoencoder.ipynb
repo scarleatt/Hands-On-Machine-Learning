{
 "cells": [
  {
   "cell_type": "code",
   "execution_count": 22,
   "metadata": {
    "collapsed": true
   },
   "outputs": [],
   "source": [
    "import tensorflow as tf\n",
    "import numpy as np\n",
    "import sys"
   ]
  },
  {
   "cell_type": "code",
   "execution_count": 2,
   "metadata": {
    "collapsed": true
   },
   "outputs": [],
   "source": [
    "def reset_graph(seed=42):\n",
    "    tf.reset_default_graph()\n",
    "    tf.set_random_seed(seed)\n",
    "    np.random.seed(seed)"
   ]
  },
  {
   "cell_type": "code",
   "execution_count": 3,
   "metadata": {
    "collapsed": true
   },
   "outputs": [],
   "source": [
    "def plot_image(image, shape=[28, 28]):\n",
    "    plt.imshow(image.reshape(shape), cmap=\"Greys\", interpolation=\"nearest\")\n",
    "    plt.axis(\"off\")\n",
    "\n",
    "def plot_multiple_images(images, n_rows, n_cols, pad=2):\n",
    "    images = images - images.min()  # make the minimum == 0, so the padding looks white\n",
    "    w,h = images.shape[1:]\n",
    "    image = np.zeros(((w+pad)*n_rows+pad, (h+pad)*n_cols+pad))\n",
    "    for y in range(n_rows):\n",
    "        for x in range(n_cols):\n",
    "            image[(y*(h+pad)+pad):(y*(h+pad)+pad+h),(x*(w+pad)+pad):(x*(w+pad)+pad+w)] = images[y*n_cols+x]\n",
    "    plt.imshow(image, cmap=\"Greys\", interpolation=\"nearest\")\n",
    "    plt.axis(\"off\")"
   ]
  },
  {
   "cell_type": "markdown",
   "metadata": {},
   "source": [
    "# PCA with a linear Autoencoder"
   ]
  },
  {
   "cell_type": "code",
   "execution_count": 4,
   "metadata": {
    "collapsed": true
   },
   "outputs": [],
   "source": [
    "import numpy.random as rnd\n",
    "\n",
    "rnd.seed(4)\n",
    "m = 200\n",
    "w1, w2 = 0.1, 0.3\n",
    "noise = 0.1\n",
    "\n",
    "angles = rnd.rand(m) * 3 * np.pi / 2 - 0.5\n",
    "data = np.empty((m, 3))\n",
    "data[:, 0] = np.cos(angles) + np.sin(angles)/2 + noise * rnd.randn(m) / 2\n",
    "data[:, 1] = np.sin(angles) * 0.7 + noise * rnd.randn(m) / 2\n",
    "data[:, 2] = data[:, 0] * w1 + data[:, 1] * w2 + noise * rnd.randn(m)"
   ]
  },
  {
   "cell_type": "code",
   "execution_count": 5,
   "metadata": {},
   "outputs": [
    {
     "data": {
      "text/plain": [
       "(200, 3)"
      ]
     },
     "execution_count": 5,
     "metadata": {},
     "output_type": "execute_result"
    }
   ],
   "source": [
    "data.shape"
   ]
  },
  {
   "cell_type": "code",
   "execution_count": 6,
   "metadata": {
    "collapsed": true
   },
   "outputs": [],
   "source": [
    "from sklearn.preprocessing import StandardScaler\n",
    "scaler = StandardScaler()\n",
    "X_train = scaler.fit_transform(data[:100])\n",
    "X_test = scaler.transform(data[100:])"
   ]
  },
  {
   "cell_type": "code",
   "execution_count": 7,
   "metadata": {},
   "outputs": [
    {
     "name": "stdout",
     "output_type": "stream",
     "text": [
      "WARNING:tensorflow:From <ipython-input-7-b21998526e57>:10: dense (from tensorflow.python.layers.core) is deprecated and will be removed in a future version.\n",
      "Instructions for updating:\n",
      "Use keras.layers.dense instead.\n",
      "WARNING:tensorflow:From /Users/liufang/miniconda3/envs/gluon/lib/python3.6/site-packages/tensorflow/python/framework/op_def_library.py:263: colocate_with (from tensorflow.python.framework.ops) is deprecated and will be removed in a future version.\n",
      "Instructions for updating:\n",
      "Colocations handled automatically by placer.\n"
     ]
    }
   ],
   "source": [
    "reset_graph()\n",
    "\n",
    "n_inputs = 3\n",
    "n_hidden = 2\n",
    "n_outputs = n_inputs\n",
    "\n",
    "learning_rate = 0.01\n",
    "\n",
    "X = tf.placeholder(tf.float32, shape=[None, n_inputs])\n",
    "hidden = tf.layers.dense(X, n_hidden)\n",
    "outputs = tf.layers.dense(hidden, n_outputs)\n",
    "\n",
    "reconstruction_loss = tf.reduce_mean(tf.square(outputs - X))\n",
    "\n",
    "optimizer = tf.train.AdamOptimizer(learning_rate)\n",
    "training_op = optimizer.minimize(reconstruction_loss)\n",
    "\n",
    "init = tf.global_variables_initializer()"
   ]
  },
  {
   "cell_type": "code",
   "execution_count": 8,
   "metadata": {
    "collapsed": true
   },
   "outputs": [],
   "source": [
    "n_iterations = 1000\n",
    "codings = hidden\n",
    "\n",
    "with tf.Session() as sess:\n",
    "    init.run()\n",
    "    for iteration in range(n_iterations):\n",
    "        training_op.run(feed_dict={X: X_train})\n",
    "    coding_vals = codings.eval(feed_dict={X: X_test})"
   ]
  },
  {
   "cell_type": "code",
   "execution_count": 9,
   "metadata": {},
   "outputs": [
    {
     "data": {
      "text/plain": [
       "(100, 2)"
      ]
     },
     "execution_count": 9,
     "metadata": {},
     "output_type": "execute_result"
    }
   ],
   "source": [
    "coding_vals.shape"
   ]
  },
  {
   "cell_type": "code",
   "execution_count": 10,
   "metadata": {},
   "outputs": [
    {
     "data": {
      "image/png": "[encoded data removed]",
      "text/plain": [
       "<Figure size 432x288 with 1 Axes>"
      ]
     },
     "metadata": {},
     "output_type": "display_data"
    }
   ],
   "source": [
    "import matplotlib.pyplot as plt\n",
    "\n",
    "plt.plot(coding_vals[:, 0], coding_vals[:, 1], \"b.\")\n",
    "plt.xlabel(r\"$Z_1$\")\n",
    "plt.ylabel(r\"$Z_2$\", rotation=0)\n",
    "plt.show()"
   ]
  },
  {
   "cell_type": "code",
   "execution_count": 11,
   "metadata": {},
   "outputs": [
    {
     "data": {
      "image/png": "[encoded data removed]",
      "text/plain": [
       "<Figure size 432x288 with 1 Axes>"
      ]
     },
     "metadata": {},
     "output_type": "display_data"
    }
   ],
   "source": [
    "from mpl_toolkits.mplot3d.axes3d import Axes3D\n",
    "\n",
    "fig = plt.figure()\n",
    "axes3d = Axes3D(fig)\n",
    "\n",
    "axes3d.scatter(data[:, 0], data[:, 1], data[:, 2])\n",
    "plt.show()"
   ]
  },
  {
   "cell_type": "markdown",
   "metadata": {},
   "source": [
    "# Stacked Autoencoders"
   ]
  },
  {
   "cell_type": "code",
   "execution_count": 12,
   "metadata": {},
   "outputs": [
    {
     "name": "stdout",
     "output_type": "stream",
     "text": [
      "WARNING:tensorflow:From <ipython-input-12-cde2e0dbcbd1>:3: read_data_sets (from tensorflow.contrib.learn.python.learn.datasets.mnist) is deprecated and will be removed in a future version.\n",
      "Instructions for updating:\n",
      "Please use alternatives such as official/mnist/dataset.py from tensorflow/models.\n",
      "WARNING:tensorflow:From /Users/liufang/miniconda3/envs/gluon/lib/python3.6/site-packages/tensorflow/contrib/learn/python/learn/datasets/mnist.py:260: maybe_download (from tensorflow.contrib.learn.python.learn.datasets.base) is deprecated and will be removed in a future version.\n",
      "Instructions for updating:\n",
      "Please write your own downloading logic.\n",
      "WARNING:tensorflow:From /Users/liufang/miniconda3/envs/gluon/lib/python3.6/site-packages/tensorflow/contrib/learn/python/learn/datasets/mnist.py:262: extract_images (from tensorflow.contrib.learn.python.learn.datasets.mnist) is deprecated and will be removed in a future version.\n",
      "Instructions for updating:\n",
      "Please use tf.data to implement this functionality.\n",
      "Extracting /tmp/data/train-images-idx3-ubyte.gz\n",
      "WARNING:tensorflow:From /Users/liufang/miniconda3/envs/gluon/lib/python3.6/site-packages/tensorflow/contrib/learn/python/learn/datasets/mnist.py:267: extract_labels (from tensorflow.contrib.learn.python.learn.datasets.mnist) is deprecated and will be removed in a future version.\n",
      "Instructions for updating:\n",
      "Please use tf.data to implement this functionality.\n",
      "Extracting /tmp/data/train-labels-idx1-ubyte.gz\n",
      "WARNING:tensorflow:From /Users/liufang/miniconda3/envs/gluon/lib/python3.6/site-packages/tensorflow/contrib/learn/python/learn/datasets/base.py:252: _internal_retry.<locals>.wrap.<locals>.wrapped_fn (from tensorflow.contrib.learn.python.learn.datasets.base) is deprecated and will be removed in a future version.\n",
      "Instructions for updating:\n",
      "Please use urllib or similar directly.\n",
      "Successfully downloaded t10k-images-idx3-ubyte.gz 1648877 bytes.\n",
      "Extracting /tmp/data/t10k-images-idx3-ubyte.gz\n",
      "Successfully downloaded t10k-labels-idx1-ubyte.gz 4542 bytes.\n",
      "Extracting /tmp/data/t10k-labels-idx1-ubyte.gz\n",
      "WARNING:tensorflow:From /Users/liufang/miniconda3/envs/gluon/lib/python3.6/site-packages/tensorflow/contrib/learn/python/learn/datasets/mnist.py:290: DataSet.__init__ (from tensorflow.contrib.learn.python.learn.datasets.mnist) is deprecated and will be removed in a future version.\n",
      "Instructions for updating:\n",
      "Please use alternatives such as official/mnist/dataset.py from tensorflow/models.\n"
     ]
    }
   ],
   "source": [
    "from tensorflow.examples.tutorials.mnist import input_data\n",
    "\n",
    "mnist = input_data.read_data_sets(\"/tmp/data\")"
   ]
  },
  {
   "cell_type": "code",
   "execution_count": 17,
   "metadata": {},
   "outputs": [
    {
     "data": {
      "text/plain": [
       "Datasets(train=<tensorflow.contrib.learn.python.learn.datasets.mnist.DataSet object at 0x1330d4cf8>, validation=<tensorflow.contrib.learn.python.learn.datasets.mnist.DataSet object at 0x1330d4828>, test=<tensorflow.contrib.learn.python.learn.datasets.mnist.DataSet object at 0x137709da0>)"
      ]
     },
     "execution_count": 17,
     "metadata": {},
     "output_type": "execute_result"
    }
   ],
   "source": [
    "mnist"
   ]
  },
  {
   "cell_type": "code",
   "execution_count": 60,
   "metadata": {},
   "outputs": [],
   "source": [
    "reset_graph()\n",
    "\n",
    "from functools import partial\n",
    "\n",
    "n_inputs = 28 * 28\n",
    "n_hidden1 = 300\n",
    "n_hidden2 = 150\n",
    "n_hidden3 = n_hidden1\n",
    "n_outputs = n_inputs\n",
    "\n",
    "learning_rate = 0.01\n",
    "l2_reg = 0.0001\n",
    "\n",
    "X = tf.placeholder(tf.float32, shape=[None, n_inputs])\n",
    "\n",
    "he_init = tf.contrib.layers.variance_scaling_initializer()\n",
    "l2_regularizer = tf.contrib.layers.l2_regularizer(l2_reg)\n",
    "\n",
    "my_dense_layer = partial(tf.layers.dense, \n",
    "                        activation=tf.nn.elu,\n",
    "                        kernel_initializer=he_init,\n",
    "                        kernel_regularizer=l2_regularizer)\n",
    "hidden1 = my_dense_layer(X, n_hidden1)\n",
    "hidden2 = my_dense_layer(hidden1, n_hidden2)\n",
    "hidden3 = my_dense_layer(hidden2, n_hidden3)\n",
    "outputs = my_dense_layer(hidden3, n_outputs, activation=None)\n",
    "\n",
    "reconstruction_loss = tf.reduce_mean(tf.square(outputs - X))\n",
    "\n",
    "reg_losses = tf.get_collection(tf.GraphKeys.REGULARIZATION_LOSSES)\n",
    "loss = tf.add_n([reconstruction_loss] + reg_losses)\n",
    "\n",
    "optimizer = tf.train.AdamOptimizer(learning_rate)\n",
    "training_op = optimizer.minimize(loss)\n",
    "\n",
    "init = tf.global_variables_initializer()\n",
    "saver = tf.train.Saver()"
   ]
  },
  {
   "cell_type": "code",
   "execution_count": 61,
   "metadata": {},
   "outputs": [
    {
     "name": "stdout",
     "output_type": "stream",
     "text": [
      " 0 Train MSE: 0.026066799\n",
      " 1 Train MSE: 0.014623563\n",
      " 2 Train MSE: 0.011000128\n",
      " 3 Train MSE: 0.010691896\n",
      " 4 Train MSE: 0.010132245\n"
     ]
    }
   ],
   "source": [
    "n_epochs = 5\n",
    "batch_size = 150\n",
    "\n",
    "with tf.Session() as sess:\n",
    "    init.run()\n",
    "    for epoch in range(n_epochs):\n",
    "        n_batches = mnist.train.num_examples // batch_size\n",
    "        for iteration in range(n_batches):\n",
    "            print(\"\\r{}%\".format(100 * iteration // n_batches), end=\"\") # not shown in the book\n",
    "            sys.stdout.flush()   \n",
    "            X_batch, y_batch = mnist.train.next_batch(batch_size)\n",
    "            sess.run(training_op, feed_dict={X: X_batch})\n",
    "        loss_train = reconstruction_loss.eval(feed_dict={X: X_batch})\n",
    "        print(\"\\r\", epoch, \"Train MSE:\", loss_train)\n",
    "        saver.save(sess, \"./my_model_all_layers.ckpt\") "
   ]
  },
  {
   "cell_type": "code",
   "execution_count": 43,
   "metadata": {
    "collapsed": true
   },
   "outputs": [],
   "source": [
    "def show_reconstruction_digits(X, outputs, model_path=None, n_test_digits=2):\n",
    "    with tf.Session() as sess:\n",
    "        if model_path:\n",
    "            saver.restore(sess, model_path)\n",
    "        X_test = mnist.test.images[:n_test_digits]\n",
    "        outputs_val = outputs.eval(feed_dict={X: X_test})\n",
    "    \n",
    "    print(\"outputs_val.shape=\", outputs_val.shape)\n",
    "    \n",
    "    for digit_index in range(n_test_digits):\n",
    "        plt.subplot(n_test_digits, 2, digit_index * 2 + 1)\n",
    "        plot_image(X_test[digit_index])\n",
    "        plt.subplot(n_test_digits, 2, digit_index * 2 + 2)\n",
    "        plot_image(outputs_val[digit_index])\n",
    "    plt.show()"
   ]
  },
  {
   "cell_type": "code",
   "execution_count": 62,
   "metadata": {},
   "outputs": [
    {
     "name": "stdout",
     "output_type": "stream",
     "text": [
      "INFO:tensorflow:Restoring parameters from ./my_model_all_layers.ckpt\n",
      "outputs_val.shape= (2, 784)\n"
     ]
    },
    {
     "data": {
      "image/png": "[encoded data removed]",
      "text/plain": [
       "<Figure size 432x288 with 4 Axes>"
      ]
     },
     "metadata": {},
     "output_type": "display_data"
    }
   ],
   "source": [
    "show_reconstruction_digits(X, outputs, \"./my_model_all_layers.ckpt\")"
   ]
  },
  {
   "cell_type": "markdown",
   "metadata": {},
   "source": [
    "## Tying Weights"
   ]
  },
  {
   "cell_type": "code",
   "execution_count": 53,
   "metadata": {
    "collapsed": true
   },
   "outputs": [],
   "source": [
    "reset_graph()\n",
    "\n",
    "n_inputs = 28 * 28\n",
    "n_hidden1 = 300\n",
    "n_hidden2 = 150  # codings\n",
    "n_hidden3 = n_hidden1\n",
    "n_outputs = n_inputs\n",
    "\n",
    "learning_rate = 0.01\n",
    "l2_reg = 0.0005"
   ]
  },
  {
   "cell_type": "code",
   "execution_count": 63,
   "metadata": {},
   "outputs": [],
   "source": [
    "activation = tf.nn.elu\n",
    "regularizer = tf.contrib.layers.l2_regularizer(l2_reg)\n",
    "initializer = tf.contrib.layers.variance_scaling_initializer()\n",
    "\n",
    "X = tf.placeholder(tf.float32, shape=[None, n_inputs])\n",
    "\n",
    "weights1_init = initializer([n_inputs, n_hidden1])\n",
    "weights2_init = initializer([n_hidden1, n_hidden2])\n",
    "\n",
    "weights1 = tf.Variable(weights1_init, dtype=tf.float32, name=\"weights1\")\n",
    "weights2 = tf.Variable(weights2_init, dtype=tf.float32, name=\"weights2\")\n",
    "weights3 = tf.transpose(weights2, name=\"weights3\")\n",
    "weights4 = tf.transpose(weights1, name=\"weights4\")\n",
    "\n",
    "biases1 = tf.Variable(tf.zeros(n_hidden1), name=\"biases1\")\n",
    "biases2 = tf.Variable(tf.zeros(n_hidden2), name=\"biases2\")\n",
    "biases3 = tf.Variable(tf.zeros(n_hidden3), name=\"biases3\")\n",
    "biases4 = tf.Variable(tf.zeros(n_outputs), name=\"biases4\")\n",
    "\n",
    "hidden1 = activation(tf.matmul(X, weights1) + biases1)\n",
    "hidden2 = activation(tf.matmul(hidden1, weights2) + biases2)\n",
    "hidden3 = activation(tf.matmul(hidden2, weights3) + biases3)\n",
    "outputs = tf.matmul(hidden3, weights4) + biases4\n",
    "\n",
    "reconstruction_loss = tf.reduce_mean(tf.square(outputs - X))\n",
    "reg_loss = regularizer(weights1) + regularizer(weights2)\n",
    "loss = reconstruction_loss + reg_loss\n",
    "\n",
    "optimizer = tf.train.AdamOptimizer(learning_rate)\n",
    "training_op = optimizer.minimize(loss)\n",
    "\n",
    "init = tf.global_variables_initializer()\n",
    "saver = tf.train.Saver()"
   ]
  },
  {
   "cell_type": "code",
   "execution_count": 64,
   "metadata": {},
   "outputs": [
    {
     "name": "stdout",
     "output_type": "stream",
     "text": [
      " 0 Train MSE: 0.014065557\n",
      " 1 Train MSE: 0.008129357\n",
      " 2 Train MSE: 0.0074769375\n",
      " 3 Train MSE: 0.0074290815\n",
      " 4 Train MSE: 0.0072105783\n"
     ]
    }
   ],
   "source": [
    "n_epochs = 5\n",
    "batch_size = 150\n",
    "\n",
    "with tf.Session() as sess:\n",
    "    init.run()\n",
    "    for epoch in range(n_epochs):\n",
    "        n_batches = mnist.train.num_examples // batch_size\n",
    "        for iteration in range(n_batches):\n",
    "            print(\"\\r{}%\".format(100 * iteration // n_batches), end=\"\") # not shown in the book\n",
    "            sys.stdout.flush()   \n",
    "            X_batch, y_batch = mnist.train.next_batch(batch_size)\n",
    "            sess.run(training_op, feed_dict={X: X_batch})\n",
    "        loss_train = reconstruction_loss.eval(feed_dict={X: X_batch})\n",
    "        print(\"\\r\", epoch, \"Train MSE:\", loss_train)\n",
    "        saver.save(sess, \"./my_model_tying_weights.ckpt\") "
   ]
  },
  {
   "cell_type": "code",
   "execution_count": 65,
   "metadata": {},
   "outputs": [
    {
     "name": "stdout",
     "output_type": "stream",
     "text": [
      "INFO:tensorflow:Restoring parameters from ./my_model_tying_weights.ckpt\n",
      "outputs_val.shape= (2, 784)\n"
     ]
    },
    {
     "data": {
      "image/png": "[encoded data removed]",
      "text/plain": [
       "<Figure size 432x288 with 4 Axes>"
      ]
     },
     "metadata": {},
     "output_type": "display_data"
    }
   ],
   "source": [
    "show_reconstruction_digits(X, outputs, \"./my_model_tying_weights.ckpt\")"
   ]
  },
  {
   "cell_type": "markdown",
   "metadata": {},
   "source": [
    "## Training One Autoencoder at a Time"
   ]
  },
  {
   "cell_type": "code",
   "execution_count": 74,
   "metadata": {
    "collapsed": true
   },
   "outputs": [],
   "source": [
    "reset_graph()\n",
    "\n",
    "n_inputs = 28 * 28\n",
    "n_hidden1 = 300\n",
    "n_hidden2 = 150  # codings\n",
    "n_hidden3 = n_hidden1\n",
    "n_outputs = n_inputs\n",
    "\n",
    "learning_rate = 0.01\n",
    "l2_reg = 0.0001\n",
    "\n",
    "activation = tf.nn.elu\n",
    "regularizer = tf.contrib.layers.l2_regularizer(l2_reg)\n",
    "initializer = tf.contrib.layers.variance_scaling_initializer()\n",
    "\n",
    "X = tf.placeholder(tf.float32, shape=[None, n_inputs])\n",
    "\n",
    "weights1_init = initializer([n_inputs, n_hidden1])\n",
    "weights2_init = initializer([n_hidden1, n_hidden2])\n",
    "weights3_init = initializer([n_hidden2, n_hidden3])\n",
    "weights4_init = initializer([n_hidden3, n_outputs])\n",
    "\n",
    "weights1 = tf.Variable(weights1_init, dtype=tf.float32, name=\"weights1\")\n",
    "weights2 = tf.Variable(weights2_init, dtype=tf.float32, name=\"weights2\")\n",
    "weights3 = tf.Variable(weights3_init, dtype=tf.float32, name=\"weights3\")\n",
    "weights4 = tf.Variable(weights4_init, dtype=tf.float32, name=\"weights4\")\n",
    "\n",
    "biases1 = tf.Variable(tf.zeros(n_hidden1), name=\"biases1\")\n",
    "biases2 = tf.Variable(tf.zeros(n_hidden2), name=\"biases2\")\n",
    "biases3 = tf.Variable(tf.zeros(n_hidden3), name=\"biases3\")\n",
    "biases4 = tf.Variable(tf.zeros(n_outputs), name=\"biases4\")\n",
    "\n",
    "hidden1 = activation(tf.matmul(X, weights1) + biases1)\n",
    "hidden2 = activation(tf.matmul(hidden1, weights2) + biases2)\n",
    "hidden3 = activation(tf.matmul(hidden2, weights3) + biases3)\n",
    "outputs = tf.matmul(hidden3, weights4) + biases4\n",
    "\n",
    "reconstruction_loss = tf.reduce_mean(tf.square(outputs - X))"
   ]
  },
  {
   "cell_type": "code",
   "execution_count": null,
   "metadata": {
    "collapsed": true
   },
   "outputs": [],
   "source": [
    "optimizer = tf.train.AdamOptimizer(learning_rate)\n",
    "\n",
    "with tf.name_scope(\"phase1\"):\n",
    "    phase1_outputs = tf.matmul(hidden1, weights4) + biases4  # bypass hidden2 and hidden3\n",
    "    phase1_reconstruction_loss = tf.reduce_mean(tf.square(phase1_outputs - X))\n",
    "    phase1_reg_loss = regularizer(weights1) + regularizer(weights4)\n",
    "    phase1_loss = phase1_reconstruction_loss + phase1_reg_loss\n",
    "    phase1_training_op = optimizer.minimize(phase1_loss)\n",
    "\n",
    "with tf.name_scope(\"phase2\"):\n",
    "    phase2_reconstruction_loss = tf.reduce_mean(tf.square(hidden3 - hidden1))\n",
    "    phase2_reg_loss = regularizer(weights2) + regularizer(weights3)\n",
    "    phase2_loss = phase2_reconstruction_loss + phase2_reg_loss\n",
    "    train_vars = [weights2, biases2, weights3, biases3]\n",
    "    phase2_training_op = optimizer.minimize(phase2_loss, var_list=train_vars) # freeze hidden1"
   ]
  },
  {
   "cell_type": "code",
   "execution_count": null,
   "metadata": {
    "collapsed": true
   },
   "outputs": [],
   "source": [
    "init = tf.global_variables_initializer()\n",
    "saver = tf.train.Saver()\n",
    "\n",
    "training_ops = [phase1_training_op, phase2_training_op]\n",
    "reconstruction_loss = [phase1_reconstruction_loss, phase2_reconstruction_loss]\n",
    "n_epochs = [4, 4]\n",
    "batchz_sizes = [150, 150]\n",
    "\n",
    "with tf.Session() as sess:\n",
    "    init.run()\n",
    "    for phase in range(2):\n",
    "        print(\"Training phase #{}\".format(phase + 1))\n",
    "        for epoch in range(n_epochs[phase]):\n",
    "            n_batches = mnist.train.num_examples // batch_sizes[phase]\n",
    "            for iteration in range(n_batches):\n",
    "                print(\"\\r{}%\".format(100 * iteration // n_batches), end=\"\")\n",
    "                sys.stdout.flush()\n",
    "                X_batch, y_batch = mnist.train.next_batch(batch_sizes[phase])\n",
    "                sess.run(training_ops[phase], feed_dict={X: X_batch})\n",
    "            loss_train = reconstruction_losses[phase].eval(feed_dict={X: X_batch})\n",
    "            print(\"\\r{}\".format(epoch), \"Train MSE:\", loss_train)\n",
    "            saver.save(sess, \"./my_model_one_at_a_time.ckpt\")\n",
    "    loss_test = reconstruction_loss.eval(feed_dict={X: mnist.test.images})\n",
    "    print(\"Test MSE:\", loss_test)"
   ]
  },
  {
   "cell_type": "markdown",
   "metadata": {},
   "source": [
    "## Denoising Autocoders"
   ]
  },
  {
   "cell_type": "code",
   "execution_count": 91,
   "metadata": {
    "collapsed": true
   },
   "outputs": [],
   "source": [
    "reset_graph()\n",
    "\n",
    "n_inputs = 28 * 28\n",
    "n_hidden1 = 300\n",
    "n_hidden2 = 150  # codings\n",
    "n_hidden3 = n_hidden1\n",
    "n_outputs = n_inputs\n",
    "\n",
    "learning_rate = 0.01"
   ]
  },
  {
   "cell_type": "code",
   "execution_count": 92,
   "metadata": {
    "collapsed": true
   },
   "outputs": [],
   "source": [
    "noise_level = 1.0\n",
    "\n",
    "X = tf.placeholder(tf.float32, shape=(None, n_inputs))\n",
    "X_noisy = X + noise_level * tf.random_normal(tf.shape(X))\n",
    "\n",
    "hidden1 = tf.layers.dense(X_noisy, n_hidden1, activation=tf.nn.elu, name=\"hidden1\")\n",
    "hidden2 = tf.layers.dense(hidden1, n_hidden2, activation=tf.nn.elu, name=\"hidden2\")\n",
    "hidden3 = tf.layers.dense(hidden2, n_hidden3, activation=tf.nn.elu, name=\"hidden3\")\n",
    "outputs = tf.layers.dense(hidden3, n_outputs, name=\"outputs\")\n",
    "\n",
    "reconstruction_loss = tf.reduce_mean(tf.square(outputs - X))"
   ]
  },
  {
   "cell_type": "code",
   "execution_count": 93,
   "metadata": {
    "collapsed": true
   },
   "outputs": [],
   "source": [
    "optimizer = tf.train.AdamOptimizer(learning_rate)\n",
    "training_op = optimizer.minimize(reconstruction_loss)\n",
    "\n",
    "init = tf.global_variables_initializer()\n",
    "saver = tf.train.Saver()"
   ]
  },
  {
   "cell_type": "code",
   "execution_count": 94,
   "metadata": {},
   "outputs": [
    {
     "name": "stdout",
     "output_type": "stream",
     "text": [
      "0 Train MSE: 0.04581761\n",
      "1 Train MSE: 0.039681006\n",
      "2 Train MSE: 0.03822099\n",
      "3 Train MSE: 0.037250612\n",
      "4 Train MSE: 0.03504262\n",
      "59% Train MSE: 0.03419592\n",
      "6 Train MSE: 0.033995003\n",
      "7 Train MSE: 0.03498402\n",
      "8 Train MSE: 0.036117658\n",
      "9 Train MSE: 0.064504996\n"
     ]
    }
   ],
   "source": [
    "n_epoch = 10\n",
    "batch_size = 150\n",
    "\n",
    "with tf.Session() as sess:\n",
    "    sess.run(init)\n",
    "    for epoch in range(n_epoch):\n",
    "        n_batches = mnist.train.num_examples // batch_size\n",
    "        for iteration in range(n_batches):\n",
    "            print(\"\\r{}%\".format(100 * iteration // n_batches), end=\"\")\n",
    "            sys.stdout.flush()\n",
    "            X_batch, y_batch = mnist.train.next_batch(batch_size)\n",
    "            sess.run(training_op, feed_dict={X: X_batch})\n",
    "        loss_train = reconstruction_loss.eval(feed_dict={X: X_batch})\n",
    "        print(\"\\r{}\".format(epoch), \"Train MSE:\", loss_train)\n",
    "        saver.save(sess, \"./my_model_stacked_denoising_gaussian.ckpt\")"
   ]
  },
  {
   "cell_type": "code",
   "execution_count": 95,
   "metadata": {},
   "outputs": [
    {
     "name": "stdout",
     "output_type": "stream",
     "text": [
      "INFO:tensorflow:Restoring parameters from ./my_model_stacked_denoising_gaussian.ckpt\n",
      "outputs_val.shape= (2, 784)\n"
     ]
    },
    {
     "data": {
      "image/png": "[encoded data removed]",
      "text/plain": [
       "<Figure size 432x288 with 4 Axes>"
      ]
     },
     "metadata": {},
     "output_type": "display_data"
    }
   ],
   "source": [
    "show_reconstruction_digits(X, outputs, \"./my_model_stacked_denoising_gaussian.ckpt\")"
   ]
  },
  {
   "cell_type": "markdown",
   "metadata": {},
   "source": [
    "### Using Dropout"
   ]
  },
  {
   "cell_type": "code",
   "execution_count": 89,
   "metadata": {},
   "outputs": [
    {
     "name": "stdout",
     "output_type": "stream",
     "text": [
      "0 Train MSE: 0.03736624\n",
      "1 Train MSE: 0.027160108\n",
      "29% Train MSE: 0.021433635\n",
      "3 Train MSE: 0.017701685\n",
      "4 Train MSE: 0.015832167\n",
      "5 Train MSE: 0.014314064\n",
      "6 Train MSE: 0.012459818\n",
      "79% Train MSE: 0.011110076\n",
      "8 Train MSE: 0.011038063\n",
      "9 Train MSE: 0.009869685\n"
     ]
    }
   ],
   "source": [
    "reset_graph()\n",
    "\n",
    "n_inputs = 28 * 28\n",
    "n_hidden1 = 300\n",
    "n_hidden2 = 150  # codings\n",
    "n_hidden3 = n_hidden1\n",
    "n_outputs = n_inputs\n",
    "\n",
    "learning_rate = 0.01\n",
    "\n",
    "X = tf.placeholder(tf.float32, shape=(None, n_inputs))\n",
    "\n",
    "training = tf.placeholder_with_default(False, shape=(), name=\"training\")\n",
    "\n",
    "dropout_rate= 0.3\n",
    "X_drop = tf.layers.dropout(X, dropout_rate, training=training)\n",
    "\n",
    "hidden1 = tf.layers.dense(X_drop, n_hidden1, activation=tf.nn.elu, name=\"hidden1\")\n",
    "hidden2 = tf.layers.dense(hidden1, n_hidden2, activation=tf.nn.elu, name=\"hidden2\")\n",
    "hidden3 = tf.layers.dense(hidden2, n_hidden3, activation=tf.nn.elu, name=\"hidden3\")\n",
    "outputs = tf.layers.dense(hidden3, n_outputs, name=\"outputs\")\n",
    "\n",
    "reconstruction_loss = tf.reduce_mean(tf.square(outputs - X))\n",
    "\n",
    "optimizer = tf.train.AdamOptimizer(learning_rate)\n",
    "training_op = optimizer.minimize(reconstruction_loss)\n",
    "\n",
    "init = tf.global_variables_initializer()\n",
    "saver = tf.train.Saver()\n",
    "\n",
    "n_epoch = 10\n",
    "batch_size = 150\n",
    "\n",
    "with tf.Session() as sess:\n",
    "    sess.run(init)\n",
    "    for epoch in range(n_epoch):\n",
    "        n_batches = mnist.train.num_examples // batch_size\n",
    "        for iteration in range(n_batches):\n",
    "            print(\"\\r{}%\".format(100 * iteration // n_batches), end=\"\")\n",
    "            sys.stdout.flush()\n",
    "            X_batch, y_batch = mnist.train.next_batch(batch_size)\n",
    "            sess.run(training_op, feed_dict={X: X_batch, training: True})\n",
    "        loss_train = reconstruction_loss.eval(feed_dict={X: X_batch})\n",
    "        print(\"\\r{}\".format(epoch), \"Train MSE:\", loss_train)\n",
    "        saver.save(sess, \"./my_model_stacked_denoising_dropout.ckpt\")"
   ]
  },
  {
   "cell_type": "code",
   "execution_count": 90,
   "metadata": {},
   "outputs": [
    {
     "name": "stdout",
     "output_type": "stream",
     "text": [
      "INFO:tensorflow:Restoring parameters from ./my_model_stacked_denoising_dropout.ckpt\n",
      "outputs_val.shape= (2, 784)\n"
     ]
    },
    {
     "data": {
      "image/png": "[encoded data removed]",
      "text/plain": [
       "<Figure size 432x288 with 4 Axes>"
      ]
     },
     "metadata": {},
     "output_type": "display_data"
    }
   ],
   "source": [
    "show_reconstruction_digits(X, outputs, \"./my_model_stacked_denoising_dropout.ckpt\")"
   ]
  },
  {
   "cell_type": "markdown",
   "metadata": {},
   "source": [
    "## Sparse Autoencoder"
   ]
  },
  {
   "cell_type": "code",
   "execution_count": 104,
   "metadata": {},
   "outputs": [
    {
     "data": {
      "image/png": "[encoded data removed]",
      "text/plain": [
       "<Figure size 432x288 with 1 Axes>"
      ]
     },
     "metadata": {},
     "output_type": "display_data"
    }
   ],
   "source": [
    "p = 0.1\n",
    "q = np.linspace(0.001, 0.999, 500)\n",
    "kl_div = p * np.log(p / q) + (1 - p) * np.log((1 - p) / (1 - q))\n",
    "mse = (p - q)**2\n",
    "plt.plot(q, kl_div, \"k-\", label=\"KL divergence\")\n",
    "plt.plot(q, mse, \"b--\", label=\"MSE\")\n",
    "plt.plot([p, p], [0, 0.3],'--')\n",
    "plt.text(0.05, 0.32, \"Target\\nsparsity\")\n",
    "plt.axis([0, 1, 0, 0.95])\n",
    "plt.xlabel(\"Actual sparsity\")\n",
    "plt.ylabel(\"Cost\", rotation=None)\n",
    "plt.legend(loc=\"upper left\")\n",
    "plt.show() "
   ]
  },
  {
   "cell_type": "code",
   "execution_count": 105,
   "metadata": {
    "collapsed": true
   },
   "outputs": [],
   "source": [
    "reset_graph()\n",
    "\n",
    "n_inputs = 28 * 28\n",
    "n_hidden1 = 1000  # sparse codings\n",
    "n_outputs = n_inputs"
   ]
  },
  {
   "cell_type": "code",
   "execution_count": 106,
   "metadata": {},
   "outputs": [
    {
     "name": "stdout",
     "output_type": "stream",
     "text": [
      "WARNING:tensorflow:From /Users/liufang/miniconda3/envs/gluon/lib/python3.6/site-packages/tensorflow/python/ops/math_ops.py:3066: to_int32 (from tensorflow.python.ops.math_ops) is deprecated and will be removed in a future version.\n",
      "Instructions for updating:\n",
      "Use tf.cast instead.\n"
     ]
    }
   ],
   "source": [
    "def kl_divergence(p, q):\n",
    "    return p * tf.log(p / q) + (1 - p) * tf.log((1 - p) / (1 - q))\n",
    "\n",
    "learning_rate = 0.01\n",
    "sparsity_target = 0.1\n",
    "sparsity_weight = 0.2\n",
    "\n",
    "X = tf.placeholder(tf.float32, shape=(None, n_inputs))\n",
    "\n",
    "hidden1 = tf.layers.dense(X, n_hidden1, activation=tf.nn.sigmoid)\n",
    "outputs = tf.layers.dense(hidden1, n_outputs)\n",
    "\n",
    "optimizer = tf.train.AdamOptimizer(learning_rate)\n",
    "\n",
    "hidden1_mean = tf.reduce_mean(hidden1, axis=0)\n",
    "sparsity_loss = tf.reduce_mean(kl_divergence(sparsity_target, hidden1_mean))\n",
    "reconstruction_loss = tf.reduce_mean(tf.square(outputs - X))\n",
    "loss = reconstruction_loss + sparsity_weight * sparsity_loss\n",
    "\n",
    "training_op = optimizer.minimize(loss)"
   ]
  },
  {
   "cell_type": "code",
   "execution_count": 107,
   "metadata": {},
   "outputs": [
    {
     "name": "stdout",
     "output_type": "stream",
     "text": [
      "0 Train MSE: 0.08790302 \tSparsity loss: 0.32332996 \tTotal loss: 0.15256903\n",
      "1 Train MSE: 0.076438524 \tSparsity loss: 0.3103739 \tTotal loss: 0.1385133\n",
      "2 Train MSE: 0.075085826 \tSparsity loss: 0.31063423 \tTotal loss: 0.13721266\n",
      "3 Train MSE: 0.06925725 \tSparsity loss: 0.27201584 \tTotal loss: 0.123660415\n",
      "4 Train MSE: 0.06853521 \tSparsity loss: 0.23937412 \tTotal loss: 0.11641003\n",
      "5 Train MSE: 0.065528795 \tSparsity loss: 0.18212551 \tTotal loss: 0.101953894\n",
      "6 Train MSE: 0.058179926 \tSparsity loss: 0.11743277 \tTotal loss: 0.081666484\n",
      "7 Train MSE: 0.04189835 \tSparsity loss: 0.054217212 \tTotal loss: 0.052741796\n",
      "8 Train MSE: 0.028470198 \tSparsity loss: 0.02522578 \tTotal loss: 0.033515353\n",
      "9 Train MSE: 0.021299407 \tSparsity loss: 0.01444171 \tTotal loss: 0.02418775\n",
      "10 Train MSE: 0.01626067 \tSparsity loss: 0.008702186 \tTotal loss: 0.018001107\n",
      "11 Train MSE: 0.013493756 \tSparsity loss: 0.008325302 \tTotal loss: 0.015158816\n",
      "12 Train MSE: 0.011760417 \tSparsity loss: 0.008183146 \tTotal loss: 0.013397046\n",
      "13 Train MSE: 0.0103412075 \tSparsity loss: 0.008182569 \tTotal loss: 0.011977721\n",
      "14 Train MSE: 0.009439975 \tSparsity loss: 0.0077926484 \tTotal loss: 0.010998504\n",
      "15 Train MSE: 0.008771539 \tSparsity loss: 0.007974731 \tTotal loss: 0.0103664845\n",
      "16 Train MSE: 0.008116589 \tSparsity loss: 0.0075994167 \tTotal loss: 0.009636472\n",
      "17 Train MSE: 0.00759454 \tSparsity loss: 0.0071365656 \tTotal loss: 0.009021853\n",
      "18 Train MSE: 0.0071490044 \tSparsity loss: 0.0071488074 \tTotal loss: 0.008578766\n",
      "19 Train MSE: 0.0065947147 \tSparsity loss: 0.007491804 \tTotal loss: 0.008093076\n",
      "20 Train MSE: 0.0063912123 \tSparsity loss: 0.0073843594 \tTotal loss: 0.007868084\n",
      "21 Train MSE: 0.0064266208 \tSparsity loss: 0.0068622674 \tTotal loss: 0.007799074\n",
      "22 Train MSE: 0.0060629174 \tSparsity loss: 0.0065267044 \tTotal loss: 0.007368258\n",
      "23 Train MSE: 0.0058540604 \tSparsity loss: 0.0067375842 \tTotal loss: 0.0072015775\n",
      "24 Train MSE: 0.005487914 \tSparsity loss: 0.0063662184 \tTotal loss: 0.006761158\n",
      "25 Train MSE: 0.0052951262 \tSparsity loss: 0.0062070503 \tTotal loss: 0.0065365364\n",
      "26 Train MSE: 0.0051447647 \tSparsity loss: 0.0064975354 \tTotal loss: 0.0064442717\n",
      "27 Train MSE: 0.005028028 \tSparsity loss: 0.0061634444 \tTotal loss: 0.006260717\n",
      "28 Train MSE: 0.004858819 \tSparsity loss: 0.0059661535 \tTotal loss: 0.00605205\n",
      "29 Train MSE: 0.0048216283 \tSparsity loss: 0.0058574034 \tTotal loss: 0.005993109\n",
      "30 Train MSE: 0.004566685 \tSparsity loss: 0.0057772505 \tTotal loss: 0.005722135\n",
      "31 Train MSE: 0.004590167 \tSparsity loss: 0.0054350644 \tTotal loss: 0.0056771804\n",
      "32 Train MSE: 0.00414849 \tSparsity loss: 0.00519216 \tTotal loss: 0.005186922\n",
      "33 Train MSE: 0.0043543843 \tSparsity loss: 0.005151409 \tTotal loss: 0.005384666\n",
      "34 Train MSE: 0.004141548 \tSparsity loss: 0.0055775098 \tTotal loss: 0.00525705\n",
      "35 Train MSE: 0.004008811 \tSparsity loss: 0.0052272393 \tTotal loss: 0.0050542587\n",
      "36 Train MSE: 0.004043711 \tSparsity loss: 0.004672174 \tTotal loss: 0.0049781455\n",
      "37 Train MSE: 0.0039554755 \tSparsity loss: 0.0048579294 \tTotal loss: 0.0049270615\n",
      "38 Train MSE: 0.0041267 \tSparsity loss: 0.004937417 \tTotal loss: 0.0051141838\n",
      "39 Train MSE: 0.0039010912 \tSparsity loss: 0.0046400167 \tTotal loss: 0.0048290947\n",
      "40 Train MSE: 0.0037113572 \tSparsity loss: 0.004593796 \tTotal loss: 0.0046301163\n",
      "41 Train MSE: 0.004047586 \tSparsity loss: 0.004391178 \tTotal loss: 0.004925822\n",
      "42 Train MSE: 0.0033816802 \tSparsity loss: 0.004317473 \tTotal loss: 0.004245175\n",
      "43 Train MSE: 0.0035496536 \tSparsity loss: 0.0043482915 \tTotal loss: 0.004419312\n",
      "44 Train MSE: 0.0033923974 \tSparsity loss: 0.0041932887 \tTotal loss: 0.0042310553\n",
      "45 Train MSE: 0.0036557182 \tSparsity loss: 0.00408962 \tTotal loss: 0.004473642\n",
      "46 Train MSE: 0.0033528295 \tSparsity loss: 0.0039992873 \tTotal loss: 0.004152687\n",
      "47 Train MSE: 0.003500532 \tSparsity loss: 0.0037579692 \tTotal loss: 0.0042521255\n",
      "48 Train MSE: 0.0034157156 \tSparsity loss: 0.0035217342 \tTotal loss: 0.0041200626\n",
      "49 Train MSE: 0.0032415807 \tSparsity loss: 0.0033128965 \tTotal loss: 0.00390416\n",
      "50 Train MSE: 0.0030291483 \tSparsity loss: 0.003423389 \tTotal loss: 0.0037138262\n",
      "51 Train MSE: 0.002965195 \tSparsity loss: 0.0034336878 \tTotal loss: 0.0036519328\n",
      "52 Train MSE: 0.003051502 \tSparsity loss: 0.0033122974 \tTotal loss: 0.0037139615\n",
      "53 Train MSE: 0.0030478728 \tSparsity loss: 0.003260549 \tTotal loss: 0.0036999825\n",
      "54 Train MSE: 0.0031187464 \tSparsity loss: 0.002765516 \tTotal loss: 0.0036718496\n",
      "55 Train MSE: 0.0028951091 \tSparsity loss: 0.002683125 \tTotal loss: 0.0034317342\n",
      "56 Train MSE: 0.0029142331 \tSparsity loss: 0.0028685646 \tTotal loss: 0.003487946\n",
      "57 Train MSE: 0.0027161844 \tSparsity loss: 0.002681798 \tTotal loss: 0.003252544\n",
      "58 Train MSE: 0.0026544519 \tSparsity loss: 0.0024771853 \tTotal loss: 0.003149889\n",
      "59 Train MSE: 0.0026774227 \tSparsity loss: 0.0026986657 \tTotal loss: 0.0032171558\n",
      "60 Train MSE: 0.002702774 \tSparsity loss: 0.0023482582 \tTotal loss: 0.0031724256\n",
      "61 Train MSE: 0.0028287834 \tSparsity loss: 0.0024441688 \tTotal loss: 0.003317617\n",
      "62 Train MSE: 0.0026163391 \tSparsity loss: 0.0023271595 \tTotal loss: 0.003081771\n",
      "63 Train MSE: 0.0024854394 \tSparsity loss: 0.0023944087 \tTotal loss: 0.002964321\n",
      "64 Train MSE: 0.0028119918 \tSparsity loss: 0.0021916395 \tTotal loss: 0.0032503197\n",
      "65 Train MSE: 0.0035887163 \tSparsity loss: 0.0015251252 \tTotal loss: 0.0038937414\n",
      "66 Train MSE: 0.0025796473 \tSparsity loss: 0.0019492785 \tTotal loss: 0.002969503\n",
      "67 Train MSE: 0.002954648 \tSparsity loss: 0.0019177075 \tTotal loss: 0.0033381896\n",
      "68 Train MSE: 0.002283834 \tSparsity loss: 0.0019092902 \tTotal loss: 0.002665692\n",
      "69 Train MSE: 0.002797833 \tSparsity loss: 0.0015440035 \tTotal loss: 0.0031066337\n",
      "70 Train MSE: 0.0028282297 \tSparsity loss: 0.0019011311 \tTotal loss: 0.0032084559\n",
      "71 Train MSE: 0.0023569933 \tSparsity loss: 0.0018105727 \tTotal loss: 0.0027191078\n",
      "72 Train MSE: 0.0027448705 \tSparsity loss: 0.0015735275 \tTotal loss: 0.003059576\n",
      "73 Train MSE: 0.002384829 \tSparsity loss: 0.0015111725 \tTotal loss: 0.0026870635\n",
      "74 Train MSE: 0.0035426037 \tSparsity loss: 0.0011397186 \tTotal loss: 0.0037705475\n",
      "75 Train MSE: 0.0024330379 \tSparsity loss: 0.0011415827 \tTotal loss: 0.0026613544\n",
      "76 Train MSE: 0.002577219 \tSparsity loss: 0.0011870923 \tTotal loss: 0.0028146375\n",
      "77 Train MSE: 0.0021203775 \tSparsity loss: 0.001257198 \tTotal loss: 0.0023718171\n",
      "78 Train MSE: 0.0020655023 \tSparsity loss: 0.0011179551 \tTotal loss: 0.0022890933\n",
      "79 Train MSE: 0.0021097735 \tSparsity loss: 0.0011527456 \tTotal loss: 0.0023403226\n",
      "80 Train MSE: 0.0023786356 \tSparsity loss: 0.0010782677 \tTotal loss: 0.0025942891\n",
      "81 Train MSE: 0.0023641742 \tSparsity loss: 0.00096329063 \tTotal loss: 0.0025568323\n",
      "82 Train MSE: 0.0021097094 \tSparsity loss: 0.00088695646 \tTotal loss: 0.0022871008\n",
      "83 Train MSE: 0.0031025247 \tSparsity loss: 0.00092814263 \tTotal loss: 0.003288153\n",
      "84 Train MSE: 0.0023490698 \tSparsity loss: 0.0008920512 \tTotal loss: 0.00252748\n",
      "85 Train MSE: 0.002188431 \tSparsity loss: 0.000887021 \tTotal loss: 0.0023658352\n",
      "86 Train MSE: 0.0022525925 \tSparsity loss: 0.0008727156 \tTotal loss: 0.0024271356\n",
      "87 Train MSE: 0.0021838646 \tSparsity loss: 0.00085904513 \tTotal loss: 0.0023556736\n",
      "88 Train MSE: 0.0028272658 \tSparsity loss: 0.0007603037 \tTotal loss: 0.0029793265\n",
      "89 Train MSE: 0.0023373307 \tSparsity loss: 0.0007167822 \tTotal loss: 0.002480687\n",
      "90 Train MSE: 0.0023029612 \tSparsity loss: 0.00075824856 \tTotal loss: 0.002454611\n",
      "91 Train MSE: 0.002102984 \tSparsity loss: 0.0006475446 \tTotal loss: 0.0022324931\n",
      "92 Train MSE: 0.0019484421 \tSparsity loss: 0.00065110147 \tTotal loss: 0.0020786624\n",
      "93 Train MSE: 0.0025918083 \tSparsity loss: 0.0006715422 \tTotal loss: 0.0027261167\n",
      "94 Train MSE: 0.002640592 \tSparsity loss: 0.0005696038 \tTotal loss: 0.0027545127\n",
      "95 Train MSE: 0.0023343242 \tSparsity loss: 0.00063441717 \tTotal loss: 0.0024612076\n",
      "96% Train MSE: 0.0023369729 \tSparsity loss: 0.0007421676 \tTotal loss: 0.0024854064\n",
      "97 Train MSE: 0.0018104941 \tSparsity loss: 0.00054982223 \tTotal loss: 0.0019204585\n",
      "98 Train MSE: 0.0020445292 \tSparsity loss: 0.0006062856 \tTotal loss: 0.0021657862\n",
      "99 Train MSE: 0.0019791292 \tSparsity loss: 0.00059219997 \tTotal loss: 0.0020975692\n"
     ]
    }
   ],
   "source": [
    "init = tf.global_variables_initializer()\n",
    "saver = tf.train.Saver()\n",
    "\n",
    "n_epochs = 100\n",
    "batch_size = 1000\n",
    "\n",
    "with tf.Session() as sess:\n",
    "    init.run()\n",
    "    for epoch in range(n_epochs):\n",
    "        n_batches = mnist.train.num_examples // batch_size\n",
    "        for iteration in range(n_batches):\n",
    "            print(\"\\r{}%\".format(100 * iteration // n_batches), end=\"\")\n",
    "            sys.stdout.flush()\n",
    "            X_batch, y_batch = mnist.train.next_batch(batch_size)\n",
    "            sess.run(training_op, feed_dict={X: X_batch})\n",
    "        reconstruction_loss_val, sparsity_loss_val, loss_val = sess.run([reconstruction_loss, sparsity_loss, loss], feed_dict={X: X_batch})\n",
    "        print(\"\\r{}\".format(epoch), \"Train MSE:\", reconstruction_loss_val, \"\\tSparsity loss:\", sparsity_loss_val, \"\\tTotal loss:\", loss_val)\n",
    "        saver.save(sess, \"./my_model_sparse.ckpt\")"
   ]
  },
  {
   "cell_type": "markdown",
   "metadata": {},
   "source": [
    "## Variational Autoencoders"
   ]
  },
  {
   "cell_type": "code",
   "execution_count": 115,
   "metadata": {},
   "outputs": [],
   "source": [
    "reset_graph()\n",
    "\n",
    "n_inputs = 28 * 28\n",
    "n_hidden1 = 500\n",
    "n_hidden2 = 500\n",
    "n_hidden3 = 20  # codings\n",
    "n_hidden4 = n_hidden2\n",
    "n_hidden5 = n_hidden1\n",
    "n_outputs = n_inputs\n",
    "learning_rate = 0.001\n",
    "\n",
    "my_dense_layer = partial(tf.layers.dense, \n",
    "                        activation=tf.nn.elu,\n",
    "                        kernel_initializer=tf.contrib.layers.variance_scaling_initializer())\n",
    "X = tf.placeholder(tf.float32, [None, n_inputs])\n",
    "\n",
    "hidden1 = my_dense_layer(X, n_hidden1)\n",
    "hidden2 = my_dense_layer(hidden1, n_hidden2)\n",
    "hidden3_mean = my_dense_layer(hidden2, n_hidden3, activation=None)\n",
    "hidden3_gamma = my_dense_layer(hidden2, n_hidden3, activation=None)\n",
    "hidden3_sigma = tf.exp(0.5 * hidden3_gamma)\n",
    "noise = tf.random_normal(tf.shape(hidden3_sigma), dtype=tf.float32)\n",
    "hidden3 = hidden3_mean + hidden3_sigma * noise\n",
    "hidden4 = my_dense_layer(hidden3, n_hidden4)\n",
    "hidden5 = my_dense_layer(hidden4, n_hidden5)\n",
    "logits = my_dense_layer(hidden5, n_outputs, activation=None)\n",
    "outputs = tf.nn.sigmoid(logits)\n",
    "\n",
    "reconstruction_loss = tf.reduce_sum(\n",
    "    tf.nn.sigmoid_cross_entropy_with_logits(labels=X, logits=logits))\n",
    "\n",
    "eps = 1e-10 # smoothing term to avoid computing log(0) which is NaN\n",
    "latent_loss = 0.5 * tf.reduce_sum(\n",
    "    tf.square(hidden3_sigma) + tf.square(hidden3_mean)\n",
    "    - 1 - tf.log(eps + tf.square(hidden3_sigma)))\n",
    "\n",
    "loss = reconstruction_loss + latent_loss\n",
    "\n",
    "optimizer = tf.train.AdamOptimizer(learning_rate)\n",
    "training_op = optimizer.minimize(loss)\n",
    "\n",
    "init = tf.global_variables_initializer()\n",
    "saver = tf.train.Saver()"
   ]
  },
  {
   "cell_type": "code",
   "execution_count": 116,
   "metadata": {},
   "outputs": [
    {
     "name": "stdout",
     "output_type": "stream",
     "text": [
      "0 Train total loss: 18651.793 \tReconstruction loss: 14914.895 \tLatent loss: 3736.8977\n",
      "19% Train total loss: 17636.285 \tReconstruction loss: 13800.318 \tLatent loss: 3835.9666\n",
      "2 Train total loss: 16275.697 \tReconstruction loss: 12523.297 \tLatent loss: 3752.4004\n",
      "3 Train total loss: 16528.715 \tReconstruction loss: 12710.905 \tLatent loss: 3817.8103\n",
      "4 Train total loss: 15686.456 \tReconstruction loss: 12021.627 \tLatent loss: 3664.8293\n",
      "5 Train total loss: 15730.357 \tReconstruction loss: 11892.512 \tLatent loss: 3837.8452\n",
      "6 Train total loss: 15801.73 \tReconstruction loss: 12008.39 \tLatent loss: 3793.3408\n",
      "7 Train total loss: 15399.066 \tReconstruction loss: 11532.357 \tLatent loss: 3866.709\n",
      "8 Train total loss: 15583.602 \tReconstruction loss: 11718.346 \tLatent loss: 3865.2563\n",
      "9 Train total loss: 15823.311 \tReconstruction loss: 12026.365 \tLatent loss: 3796.9448\n",
      "10 Train total loss: 15299.943 \tReconstruction loss: 11583.449 \tLatent loss: 3716.4941\n",
      "11 Train total loss: 15382.653 \tReconstruction loss: 11629.405 \tLatent loss: 3753.248\n",
      "12 Train total loss: 15855.822 \tReconstruction loss: 12007.568 \tLatent loss: 3848.2544\n",
      "13 Train total loss: 15590.129 \tReconstruction loss: 11868.785 \tLatent loss: 3721.3435\n",
      "14 Train total loss: 15582.352 \tReconstruction loss: 11772.586 \tLatent loss: 3809.7651\n",
      "15 Train total loss: 15821.582 \tReconstruction loss: 12020.777 \tLatent loss: 3800.8052\n",
      "16 Train total loss: 14787.631 \tReconstruction loss: 10963.875 \tLatent loss: 3823.7563\n",
      "17 Train total loss: 14913.521 \tReconstruction loss: 11180.443 \tLatent loss: 3733.0784\n",
      "18 Train total loss: 14973.098 \tReconstruction loss: 11288.349 \tLatent loss: 3684.7488\n",
      "19 Train total loss: 14931.518 \tReconstruction loss: 11277.497 \tLatent loss: 3654.02\n",
      "20 Train total loss: 14981.648 \tReconstruction loss: 11248.971 \tLatent loss: 3732.6782\n",
      "21 Train total loss: 15386.674 \tReconstruction loss: 11589.902 \tLatent loss: 3796.772\n",
      "22 Train total loss: 15177.023 \tReconstruction loss: 11369.588 \tLatent loss: 3807.435\n",
      "23 Train total loss: 15222.719 \tReconstruction loss: 11499.008 \tLatent loss: 3723.7104\n",
      "24 Train total loss: 14721.609 \tReconstruction loss: 11083.937 \tLatent loss: 3637.6724\n",
      "25 Train total loss: 14647.204 \tReconstruction loss: 10982.907 \tLatent loss: 3664.297\n",
      "26 Train total loss: 15303.149 \tReconstruction loss: 11553.92 \tLatent loss: 3749.2295\n",
      "27 Train total loss: 14679.965 \tReconstruction loss: 11118.201 \tLatent loss: 3561.7642\n",
      "28 Train total loss: 14925.412 \tReconstruction loss: 11159.556 \tLatent loss: 3765.8562\n",
      "29 Train total loss: 15129.404 \tReconstruction loss: 11422.272 \tLatent loss: 3707.1316\n",
      "30 Train total loss: 15246.123 \tReconstruction loss: 11471.006 \tLatent loss: 3775.1177\n",
      "31 Train total loss: 15002.063 \tReconstruction loss: 11375.988 \tLatent loss: 3626.0752\n",
      "32% Train total loss: 14392.873 \tReconstruction loss: 10756.008 \tLatent loss: 3636.8657\n",
      "33 Train total loss: 14532.72 \tReconstruction loss: 10806.131 \tLatent loss: 3726.589\n",
      "34 Train total loss: 15095.951 \tReconstruction loss: 11224.589 \tLatent loss: 3871.3618\n",
      "35 Train total loss: 15341.982 \tReconstruction loss: 11544.973 \tLatent loss: 3797.0093\n",
      "36 Train total loss: 14898.495 \tReconstruction loss: 11204.662 \tLatent loss: 3693.833\n",
      "37 Train total loss: 14938.016 \tReconstruction loss: 11296.665 \tLatent loss: 3641.3506\n",
      "38 Train total loss: 14651.213 \tReconstruction loss: 10985.088 \tLatent loss: 3666.125\n",
      "39 Train total loss: 14151.468 \tReconstruction loss: 10610.941 \tLatent loss: 3540.5264\n",
      "40 Train total loss: 15044.18 \tReconstruction loss: 11295.396 \tLatent loss: 3748.7837\n",
      "41 Train total loss: 14573.841 \tReconstruction loss: 10808.604 \tLatent loss: 3765.2373\n",
      "42 Train total loss: 14591.037 \tReconstruction loss: 10926.278 \tLatent loss: 3664.759\n",
      "43 Train total loss: 15108.499 \tReconstruction loss: 11349.249 \tLatent loss: 3759.25\n",
      "44 Train total loss: 14684.778 \tReconstruction loss: 10996.823 \tLatent loss: 3687.9553\n",
      "45 Train total loss: 14617.366 \tReconstruction loss: 10943.835 \tLatent loss: 3673.531\n",
      "46 Train total loss: 14867.232 \tReconstruction loss: 11148.576 \tLatent loss: 3718.6565\n",
      "47 Train total loss: 15491.819 \tReconstruction loss: 11599.748 \tLatent loss: 3892.0713\n",
      "48 Train total loss: 14648.131 \tReconstruction loss: 10983.232 \tLatent loss: 3664.8984\n",
      "49 Train total loss: 14987.208 \tReconstruction loss: 11314.858 \tLatent loss: 3672.3496\n"
     ]
    }
   ],
   "source": [
    "n_epochs = 50\n",
    "batch_size = 150\n",
    "\n",
    "with tf.Session() as sess:\n",
    "    init.run()\n",
    "    for epoch in range(n_epochs):\n",
    "        n_batches = mnist.train.num_examples // batch_size\n",
    "        for iteration in range(n_batches):\n",
    "            print(\"\\r{}%\".format(100 * iteration // n_batches), end=\"\")\n",
    "            sys.stdout.flush()\n",
    "            X_batch, y_batch = mnist.train.next_batch(batch_size)\n",
    "            sess.run(training_op, feed_dict={X: X_batch})\n",
    "        loss_val, reconstruction_loss_val, latent_loss_val = sess.run([loss, reconstruction_loss, latent_loss], feed_dict={X: X_batch})\n",
    "        print(\"\\r{}\".format(epoch), \"Train total loss:\", loss_val, \"\\tReconstruction loss:\", reconstruction_loss_val, \"\\tLatent loss:\", latent_loss_val)\n",
    "        saver.save(sess, \"./my_model_variational.ckpt\")"
   ]
  },
  {
   "cell_type": "markdown",
   "metadata": {},
   "source": [
    "### Generating Digits"
   ]
  },
  {
   "cell_type": "code",
   "execution_count": 117,
   "metadata": {
    "collapsed": true
   },
   "outputs": [],
   "source": [
    "import numpy as np\n",
    "\n",
    "n_digits = 60\n",
    "n_epochs = 50\n",
    "batch_size = 150\n",
    "\n",
    "with tf.Session() as sess:\n",
    "    init.run()\n",
    "    for epoch in range(n_epochs):\n",
    "        n_batches = mnist.train.num_examples // batch_size\n",
    "        for iteration in range(n_batches):\n",
    "            print(\"\\r{}%\".format(100 * iteration // n_batches), end=\"\") # not shown in the book\n",
    "            sys.stdout.flush()                                          # not shown\n",
    "            X_batch, y_batch = mnist.train.next_batch(batch_size)\n",
    "            sess.run(training_op, feed_dict={X: X_batch})\n",
    "        print(\"\\r{}\".format(epoch), \"Train total loss:\", loss_val, \"\\tReconstruction loss:\", reconstruction_loss_val, \"\\tLatent loss:\", latent_loss_val)  # not shown\n",
    "        saver.save(sess, \"./my_model_variational.ckpt\")  # not shown\n",
    "    \n",
    "    codings_rnd = np.random.normal(size=[n_digits, n_hidden3])\n",
    "    outputs_val = outputs.eval(feed_dict={hidden3: codings_rnd})"
   ]
  },
  {
   "cell_type": "code",
   "execution_count": 120,
   "metadata": {},
   "outputs": [
    {
     "data": {
      "image/png": "[encoded data removed]",
      "text/plain": [
       "<Figure size 576x3600 with 60 Axes>"
      ]
     },
     "metadata": {},
     "output_type": "display_data"
    }
   ],
   "source": [
    "plt.figure(figsize=(8,50))\n",
    "for iteration in range(n_digits):\n",
    "    plt.subplot(n_digits, 10, iteration + 1)\n",
    "    plot_image(outputs_val[iteration])\n",
    "plt.show()"
   ]
  },
  {
   "cell_type": "code",
   "execution_count": null,
   "metadata": {
    "collapsed": true
   },
   "outputs": [],
   "source": []
  }
 ],
 "metadata": {
  "kernelspec": {
   "display_name": "Python 3",
   "language": "python",
   "name": "python3"
  },
  "language_info": {
   "codemirror_mode": {
    "name": "ipython",
    "version": 3
   },
   "file_extension": ".py",
   "mimetype": "text/x-python",
   "name": "python",
   "nbconvert_exporter": "python",
   "pygments_lexer": "ipython3",
   "version": "3.6.2"
  }
 },
 "nbformat": 4,
 "nbformat_minor": 2
}
